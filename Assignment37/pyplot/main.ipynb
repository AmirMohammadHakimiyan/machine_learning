{
 "cells": [
  {
   "cell_type": "code",
   "execution_count": null,
   "metadata": {},
   "outputs": [],
   "source": [
    "import matplotlib.pyplot as plt\n",
    "import numpy as np\n",
    "x=np.array([1,3,10,5])\n",
    "y=np.array([1,5,2,3])\n",
    "x2=np.array([1,2,4,1])\n",
    "y2=np.array([2,4,8,4])\n",
    "plt.plot(x,y,marker=\"*\",ms=20,mec=\"b\",mfc=\"r\",linewidth=10,color=\"g\")\n",
    "plt.plot(x2,y2,linestyle=\"dashed\")\n",
    "plt.show()\n"
   ]
  },
  {
   "cell_type": "code",
   "execution_count": null,
   "metadata": {},
   "outputs": [],
   "source": [
    "x=np.array([1,3,10,5])\n",
    "y=np.array([20,30,40,10])\n",
    "plt.plot(x,y,'o')\n",
    "plt.show()"
   ]
  },
  {
   "cell_type": "code",
   "execution_count": null,
   "metadata": {},
   "outputs": [],
   "source": [
    "x=np.array([\"ali\",\"mohammad\",\"zahra\",\"chavad\"])\n",
    "y=np.array([20,30,40,10])\n",
    "plt.bar(x,y,color=\"red\")\n",
    "plt.show()"
   ]
  },
  {
   "cell_type": "code",
   "execution_count": null,
   "metadata": {},
   "outputs": [],
   "source": [
    "y=np.array([20,30,40,10])\n",
    "mylabel=[\"ali\",\"mohammad\",\"zahra\",\"chavad\"]\n",
    "myexplod=[0.2,0,0,0]\n",
    "plt.pie(y,labels=mylabel,explode=myexplod,shadow=True)\n",
    "plt.show()"
   ]
  }
 ],
 "metadata": {
  "language_info": {
   "name": "python"
  },
  "orig_nbformat": 4
 },
 "nbformat": 4,
 "nbformat_minor": 2
}
