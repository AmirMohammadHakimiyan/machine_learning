{
 "cells": [
  {
   "cell_type": "code",
   "execution_count": null,
   "metadata": {},
   "outputs": [],
   "source": [
    "import matplotlib.pyplot as plt\n",
    "import pandas as pd\n",
    "import numpy as np\n",
    "# All font sizes are set to 15\n",
    "plt.rcParams['xtick.labelsize'] = 15\n",
    "plt.rcParams['ytick.labelsize'] = 15\n",
    "plt.rcParams['legend.fontsize'] = 15\n",
    "plt.rcParams['axes.labelsize'] = 15\n",
    "plt.rcParams['axes.titlesize'] = 15\n",
    "\n",
    "np.random.seed(121)\n",
    "\n",
    "N = 1000\n",
    "std = 0.6\n",
    "bananas = pd.DataFrame({\n",
    "    'length': np.random.normal(8, std, N),\n",
    "    'width': np.random.normal(4, std, N),\n",
    "    'class': np.zeros(N, dtype='int')}\n",
    ")\n",
    "\n",
    "apples = pd.DataFrame({\n",
    "    'length': np.random.normal(6, std, N),\n",
    "    'width': np.random.normal(6, std, N),\n",
    "    'class': np.ones(N, dtype='int')}\n",
    ")\n",
    "\n",
    "fruits = pd.concat([bananas, apples])\n",
    "\n",
    "plt.scatter(x=apples['length'], y=apples['width'], label='apples')\n",
    "plt.scatter(x=bananas['length'], y=bananas['width'], label='bananas')\n",
    "plt.legend()\n",
    "plt.xlabel('Length')\n",
    "plt.ylabel('Width')\n",
    "\n",
    "\n",
    "plt.show()"
   ]
  },
  {
   "cell_type": "code",
   "execution_count": null,
   "metadata": {},
   "outputs": [],
   "source": [
    "labels = ['bananas', 'apples', 'bananas', 'apples']\n",
    "x = [1, 1.5, 2.5, 3.0]\n",
    "height = [fruits.loc[fruits['class'] == 0, 'length'].mean(),\n",
    "          fruits.loc[fruits['class'] == 1, 'length'].mean(),\n",
    "          fruits.loc[fruits['class'] == 0, 'width'].mean(),\n",
    "          fruits.loc[fruits['class'] == 1, 'width'].mean()]\n",
    "yerr = [2*fruits.loc[fruits['class'] == 0, 'length'].std(),\n",
    "        2*fruits.loc[fruits['class'] == 1, 'length'].std(),\n",
    "        2*fruits.loc[fruits['class'] == 0, 'width'].std(),\n",
    "        2*fruits.loc[fruits['class'] == 1, 'width'].std()]\n",
    "color = ['tab:blue', 'tab:blue', 'tab:orange', 'tab:orange']\n",
    "\n",
    "plt.bar(x=x,\n",
    "        height=height,\n",
    "        color=color,\n",
    "        width=0.4,\n",
    "        error_kw={'lw': 4},\n",
    "        yerr=yerr)\n",
    "plt.xticks(ticks=x, labels=labels)\n",
    "plt.title('Fruit length VS width')\n",
    "\n",
    "plt.grid()\n",
    "plt.show()"
   ]
  },
  {
   "cell_type": "code",
   "execution_count": null,
   "metadata": {},
   "outputs": [],
   "source": [
    "fea = 'length'\n",
    "plt.boxplot(x=fea, data=fruits.loc[fruits['class'] == 0],\n",
    "            patch_artist=True, boxprops={'facecolor': 'tab:blue'},\n",
    "            positions=[0], labels=['bananas'], widths=[0.15])\n",
    "plt.boxplot(x=fea, data=fruits.loc[fruits['class'] == 1],\n",
    "            patch_artist=True, boxprops={'facecolor': 'tab:orange'},\n",
    "            positions=[0.3], labels=['apples'], widths=[0.15])\n",
    "plt.ylabel('length')\n",
    "plt.xlim(-0.2, 0.5)\n",
    "plt.title('Length Distribution ')\n",
    "plt.show()"
   ]
  },
  {
   "cell_type": "code",
   "execution_count": null,
   "metadata": {},
   "outputs": [],
   "source": [
    "fea = 'width'\n",
    "\n",
    "plt.hist(x=fea, data=fruits.loc[fruits['class'] == 0],\n",
    "         bins=30, density=True, color='tab:blue', label='bananas',)\n",
    "plt.hist(x=fea, data=fruits.loc[fruits['class'] == 1],\n",
    "         bins=30, density=True, color='tab:orange', label='apples', alpha=0.8)\n",
    "plt.legend(frameon=False)\n",
    "plt.title('Width Distribution ')\n",
    "plt.xlabel('Width')\n"
   ]
  },
  {
   "cell_type": "code",
   "execution_count": null,
   "metadata": {},
   "outputs": [],
   "source": [
    "fig, (ax, cax) = plt.subplots(1, 2, gridspec_kw={'width_ratios': [0.9, 0.1]})\n",
    "_, _, _, mappable = ax.hist2d(\n",
    "    x='length', y='width', bins=50, data=fruits, cmap=plt.cm.hot)\n",
    "ax.set_xlabel('length')\n",
    "ax.set_ylabel('width')\n",
    "\n",
    "plt.colorbar(mappable=mappable, cax=cax, ax=ax)"
   ]
  },
  {
   "cell_type": "code",
   "execution_count": null,
   "metadata": {},
   "outputs": [],
   "source": [
    "fea = 'L/W'\n",
    "fruits[fea] = fruits['length']/fruits['width']\n",
    "\n",
    "plt.hist(x=fea, data=fruits.loc[fruits['class'] == 0],\n",
    "         bins=30, density=True, color='tab:blue', label='bananas',)\n",
    "plt.hist(x=fea, data=fruits.loc[fruits['class'] == 1],\n",
    "         bins=30, density=True, color='tab:orange', label='apples',)\n",
    "plt.legend()\n",
    "plt.title('L/W Distribution ')\n",
    "plt.xlabel('L/W ratio')"
   ]
  },
  {
   "cell_type": "code",
   "execution_count": null,
   "metadata": {},
   "outputs": [],
   "source": [
    "fea = 'area'\n",
    "fruits[fea] = fruits['length']*fruits['width']\n",
    "plt.hist(x=fea, data=fruits.loc[fruits['class'] == 0], histtype='step', lw=4,\n",
    "         bins=30, density=True, color='tab:blue', label='bananas')\n",
    "plt.hist(x=fea, data=fruits.loc[fruits['class'] == 1], histtype='step', lw=4,\n",
    "         bins=30, density=True, color='tab:orange', label='apples')\n",
    "plt.title('Area Distribution ')\n",
    "plt.legend()\n",
    "plt.xlabel('Area')"
   ]
  },
  {
   "cell_type": "code",
   "execution_count": null,
   "metadata": {},
   "outputs": [],
   "source": [
    "fea = 'circumference'\n",
    "fruits[fea] = 2*(fruits['length']+fruits['width'])\n",
    "plt.hist(x=fea, data=fruits.loc[fruits['class'] == 0], histtype='step', lw=4,\n",
    "         bins=30, density=True, color='tab:blue', label='bananas')\n",
    "plt.hist(x=fea, data=fruits.loc[fruits['class'] == 1], histtype='step', lw=4,\n",
    "         bins=30, density=True, color='tab:orange', label='apples')\n",
    "plt.title('circumference Distribution ')\n",
    "plt.legend()\n",
    "plt.xlabel('Circumference')"
   ]
  }
 ],
 "metadata": {
  "language_info": {
   "name": "python"
  },
  "orig_nbformat": 4
 },
 "nbformat": 4,
 "nbformat_minor": 2
}
